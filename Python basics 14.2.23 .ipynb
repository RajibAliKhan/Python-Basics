{
 "cells": [
  {
   "cell_type": "code",
   "execution_count": 1,
   "id": "37018a9d-066a-4211-bad7-11fed90b6cac",
   "metadata": {},
   "outputs": [
    {
     "data": {
      "text/plain": [
       "25"
      ]
     },
     "execution_count": 1,
     "metadata": {},
     "output_type": "execute_result"
    }
   ],
   "source": [
    "5*5"
   ]
  },
  {
   "cell_type": "code",
   "execution_count": 6,
   "id": "bb40ec56-abbb-47e7-bbe6-32bdb18c7ed3",
   "metadata": {},
   "outputs": [
    {
     "data": {
      "text/plain": [
       "17"
      ]
     },
     "execution_count": 6,
     "metadata": {},
     "output_type": "execute_result"
    }
   ],
   "source": [
    "8+9"
   ]
  },
  {
   "cell_type": "code",
   "execution_count": 7,
   "id": "a42fced2-da6b-4c50-a101-f58716c13424",
   "metadata": {},
   "outputs": [],
   "source": [
    "a = 10"
   ]
  },
  {
   "cell_type": "code",
   "execution_count": 8,
   "id": "60229ced-1c28-4d5f-a583-5e97f321752d",
   "metadata": {},
   "outputs": [
    {
     "data": {
      "text/plain": [
       "10"
      ]
     },
     "execution_count": 8,
     "metadata": {},
     "output_type": "execute_result"
    }
   ],
   "source": [
    "a"
   ]
  },
  {
   "cell_type": "code",
   "execution_count": 9,
   "id": "94ad0d49-79e4-4394-a41f-f85b77a75d3c",
   "metadata": {},
   "outputs": [],
   "source": [
    "rajib = 20"
   ]
  },
  {
   "cell_type": "code",
   "execution_count": 10,
   "id": "397dda3f-5542-4c86-a87e-fc9ed8bb62c2",
   "metadata": {},
   "outputs": [
    {
     "data": {
      "text/plain": [
       "20"
      ]
     },
     "execution_count": 10,
     "metadata": {},
     "output_type": "execute_result"
    }
   ],
   "source": [
    "rajib"
   ]
  },
  {
   "cell_type": "code",
   "execution_count": 11,
   "id": "6667d135-c523-45bb-a691-ee56d2c0f7b2",
   "metadata": {},
   "outputs": [],
   "source": [
    "rajib = 20"
   ]
  },
  {
   "cell_type": "code",
   "execution_count": 12,
   "id": "74a6ce62-facf-4a97-9f5c-ef09c8791a09",
   "metadata": {},
   "outputs": [
    {
     "data": {
      "text/plain": [
       "20"
      ]
     },
     "execution_count": 12,
     "metadata": {},
     "output_type": "execute_result"
    }
   ],
   "source": [
    "rajib"
   ]
  },
  {
   "cell_type": "code",
   "execution_count": 13,
   "id": "af762a3b-fcca-42b9-bbb8-d1ddcdc7b6fc",
   "metadata": {},
   "outputs": [
    {
     "data": {
      "text/plain": [
       "20"
      ]
     },
     "execution_count": 13,
     "metadata": {},
     "output_type": "execute_result"
    }
   ],
   "source": [
    "20"
   ]
  },
  {
   "cell_type": "code",
   "execution_count": 14,
   "id": "9be680ca-d800-458b-bff4-39c8bd884312",
   "metadata": {},
   "outputs": [
    {
     "data": {
      "text/plain": [
       "30"
      ]
     },
     "execution_count": 14,
     "metadata": {},
     "output_type": "execute_result"
    }
   ],
   "source": [
    "a + rajib"
   ]
  },
  {
   "cell_type": "code",
   "execution_count": 15,
   "id": "1ee14c84-71be-40cd-ab6e-faf3dda229cf",
   "metadata": {},
   "outputs": [
    {
     "data": {
      "text/plain": [
       "int"
      ]
     },
     "execution_count": 15,
     "metadata": {},
     "output_type": "execute_result"
    }
   ],
   "source": [
    "type(a)"
   ]
  },
  {
   "cell_type": "code",
   "execution_count": 16,
   "id": "7278c2c9-eab1-4c77-ac10-dddd17e93811",
   "metadata": {},
   "outputs": [
    {
     "data": {
      "text/plain": [
       "int"
      ]
     },
     "execution_count": 16,
     "metadata": {},
     "output_type": "execute_result"
    }
   ],
   "source": [
    "type(rajib)"
   ]
  },
  {
   "cell_type": "code",
   "execution_count": 17,
   "id": "7fc36325-b549-4b6f-92a5-1404de4fc7af",
   "metadata": {},
   "outputs": [],
   "source": [
    "b=20.35"
   ]
  },
  {
   "cell_type": "code",
   "execution_count": 18,
   "id": "3c228eb1-fac3-4116-8907-15c10f005a79",
   "metadata": {},
   "outputs": [
    {
     "data": {
      "text/plain": [
       "float"
      ]
     },
     "execution_count": 18,
     "metadata": {},
     "output_type": "execute_result"
    }
   ],
   "source": [
    "type(b)"
   ]
  },
  {
   "cell_type": "code",
   "execution_count": 23,
   "id": "df2030df-09af-42fa-908e-53e62231138c",
   "metadata": {},
   "outputs": [
    {
     "data": {
      "text/plain": [
       "int"
      ]
     },
     "execution_count": 23,
     "metadata": {},
     "output_type": "execute_result"
    }
   ],
   "source": [
    "type(d)"
   ]
  },
  {
   "cell_type": "code",
   "execution_count": 24,
   "id": "a837a7bf-6c45-44ad-a71e-94331849f426",
   "metadata": {},
   "outputs": [],
   "source": [
    "d = \"rajib\""
   ]
  },
  {
   "cell_type": "code",
   "execution_count": 27,
   "id": "45ba614e-61fb-4de9-bee1-03a5246f0721",
   "metadata": {},
   "outputs": [],
   "source": [
    "e = 'this is my first ed calss'"
   ]
  },
  {
   "cell_type": "code",
   "execution_count": 28,
   "id": "f2cb3ace-9620-4c85-81a6-85b68e98ede0",
   "metadata": {},
   "outputs": [
    {
     "data": {
      "text/plain": [
       "str"
      ]
     },
     "execution_count": 28,
     "metadata": {},
     "output_type": "execute_result"
    }
   ],
   "source": [
    "type(e)"
   ]
  },
  {
   "cell_type": "code",
   "execution_count": 29,
   "id": "e7458f8f-454c-41fc-8c49-7f203844913f",
   "metadata": {},
   "outputs": [],
   "source": [
    "n=True"
   ]
  },
  {
   "cell_type": "code",
   "execution_count": 30,
   "id": "0850f024-729c-4153-af56-313153691c1a",
   "metadata": {},
   "outputs": [
    {
     "data": {
      "text/plain": [
       "bool"
      ]
     },
     "execution_count": 30,
     "metadata": {},
     "output_type": "execute_result"
    }
   ],
   "source": [
    "type(n)"
   ]
  },
  {
   "cell_type": "code",
   "execution_count": 31,
   "id": "4884f73e-c0f0-42a9-958b-87fdd226ef77",
   "metadata": {},
   "outputs": [],
   "source": [
    "m=False"
   ]
  },
  {
   "cell_type": "code",
   "execution_count": 33,
   "id": "3785f70a-9477-47f8-bdb1-8f8f7b885722",
   "metadata": {},
   "outputs": [],
   "source": [
    "m=False"
   ]
  },
  {
   "cell_type": "code",
   "execution_count": 34,
   "id": "5f79844a-5173-4a91-b58f-780377ede42d",
   "metadata": {},
   "outputs": [
    {
     "data": {
      "text/plain": [
       "bool"
      ]
     },
     "execution_count": 34,
     "metadata": {},
     "output_type": "execute_result"
    }
   ],
   "source": [
    "type(m)"
   ]
  },
  {
   "cell_type": "code",
   "execution_count": 35,
   "id": "05cb8ab8-0a9f-4bb5-b4ba-b1cfae444caa",
   "metadata": {},
   "outputs": [
    {
     "data": {
      "text/plain": [
       "0"
      ]
     },
     "execution_count": 35,
     "metadata": {},
     "output_type": "execute_result"
    }
   ],
   "source": [
    "n+m"
   ]
  },
  {
   "cell_type": "code",
   "execution_count": 37,
   "id": "f9efc031-040a-432e-bc52-e6f9ad745017",
   "metadata": {},
   "outputs": [
    {
     "data": {
      "text/plain": [
       "1"
      ]
     },
     "execution_count": 37,
     "metadata": {},
     "output_type": "execute_result"
    }
   ],
   "source": [
    "True * True"
   ]
  },
  {
   "cell_type": "code",
   "execution_count": 38,
   "id": "fd8f14c4-cac1-43b7-ae72-84d9194d7203",
   "metadata": {},
   "outputs": [
    {
     "data": {
      "text/plain": [
       "0"
      ]
     },
     "execution_count": 38,
     "metadata": {},
     "output_type": "execute_result"
    }
   ],
   "source": [
    "True * False"
   ]
  },
  {
   "cell_type": "code",
   "execution_count": 39,
   "id": "62cd90a9-1990-4647-bbc3-844fe0b1f872",
   "metadata": {},
   "outputs": [
    {
     "ename": "ZeroDivisionError",
     "evalue": "division by zero",
     "output_type": "error",
     "traceback": [
      "\u001b[0;31m---------------------------------------------------------------------------\u001b[0m",
      "\u001b[0;31mZeroDivisionError\u001b[0m                         Traceback (most recent call last)",
      "Cell \u001b[0;32mIn[39], line 1\u001b[0m\n\u001b[0;32m----> 1\u001b[0m \u001b[38;5;28;43;01mTrue\u001b[39;49;00m\u001b[43m \u001b[49m\u001b[38;5;241;43m/\u001b[39;49m\u001b[43m \u001b[49m\u001b[38;5;28;43;01mFalse\u001b[39;49;00m\n",
      "\u001b[0;31mZeroDivisionError\u001b[0m: division by zero"
     ]
    }
   ],
   "source": [
    "True / False"
   ]
  },
  {
   "cell_type": "code",
   "execution_count": 43,
   "id": "5a4ab4ec-71e9-4cfe-a91c-99384e631a1d",
   "metadata": {},
   "outputs": [],
   "source": [
    "v = 5 + 8j"
   ]
  },
  {
   "cell_type": "code",
   "execution_count": 44,
   "id": "e47b7f59-032b-4b65-98f7-5a1e6a5a046d",
   "metadata": {},
   "outputs": [
    {
     "data": {
      "text/plain": [
       "complex"
      ]
     },
     "execution_count": 44,
     "metadata": {},
     "output_type": "execute_result"
    }
   ],
   "source": [
    "type(v)"
   ]
  },
  {
   "cell_type": "code",
   "execution_count": 45,
   "id": "e268ca96-f7cb-4099-9255-61cff0e4757a",
   "metadata": {},
   "outputs": [
    {
     "data": {
      "text/plain": [
       "5.0"
      ]
     },
     "execution_count": 45,
     "metadata": {},
     "output_type": "execute_result"
    }
   ],
   "source": [
    "v.real"
   ]
  },
  {
   "cell_type": "code",
   "execution_count": 4,
   "id": "5bbb5aaf-2126-456d-8a34-4fc7d148c250",
   "metadata": {},
   "outputs": [],
   "source": [
    "v = 7+9j"
   ]
  },
  {
   "cell_type": "code",
   "execution_count": 5,
   "id": "16f701be-7b6e-48ce-bd26-898b2d9043f0",
   "metadata": {},
   "outputs": [
    {
     "data": {
      "text/plain": [
       "9.0"
      ]
     },
     "execution_count": 5,
     "metadata": {},
     "output_type": "execute_result"
    }
   ],
   "source": [
    "v.imag"
   ]
  },
  {
   "cell_type": "code",
   "execution_count": 50,
   "id": "ffa3d299-7f80-4a69-9693-48b39a5be635",
   "metadata": {},
   "outputs": [
    {
     "data": {
      "text/plain": [
       "complex"
      ]
     },
     "execution_count": 50,
     "metadata": {},
     "output_type": "execute_result"
    }
   ],
   "source": [
    "type(v)"
   ]
  },
  {
   "cell_type": "code",
   "execution_count": 51,
   "id": "234d49d2-efbd-481e-8a2e-9b1c9a7b0fe8",
   "metadata": {},
   "outputs": [
    {
     "data": {
      "text/plain": [
       "(5+8j)"
      ]
     },
     "execution_count": 51,
     "metadata": {},
     "output_type": "execute_result"
    }
   ],
   "source": [
    "v"
   ]
  },
  {
   "cell_type": "code",
   "execution_count": 55,
   "id": "0c75f705-25ac-4e78-a017-4ba052c9ba6e",
   "metadata": {},
   "outputs": [
    {
     "name": "stdout",
     "output_type": "stream",
     "text": [
      "my name is Rajib Ali Khan\n"
     ]
    }
   ],
   "source": [
    "print(\"my name is Rajib Ali Khan\")"
   ]
  },
  {
   "cell_type": "code",
   "execution_count": 56,
   "id": "1ceb9faf-f364-40d7-bb9f-0e4764c5ecd0",
   "metadata": {},
   "outputs": [
    {
     "name": "stdout",
     "output_type": "stream",
     "text": [
      "10\n"
     ]
    }
   ],
   "source": [
    "print(a)"
   ]
  },
  {
   "cell_type": "code",
   "execution_count": 57,
   "id": "2f756e53-a493-49c2-944c-8846afa838ee",
   "metadata": {},
   "outputs": [
    {
     "name": "stdout",
     "output_type": "stream",
     "text": [
      "(5+8j)\n"
     ]
    }
   ],
   "source": [
    "print(v)"
   ]
  },
  {
   "cell_type": "code",
   "execution_count": 58,
   "id": "ea0a379a-46b6-4319-bf29-380f7d820a08",
   "metadata": {},
   "outputs": [],
   "source": [
    "s = \"pwskills\""
   ]
  },
  {
   "cell_type": "code",
   "execution_count": 59,
   "id": "797be6c5-824e-43e9-889e-a0d4de4715cc",
   "metadata": {},
   "outputs": [
    {
     "data": {
      "text/plain": [
       "str"
      ]
     },
     "execution_count": 59,
     "metadata": {},
     "output_type": "execute_result"
    }
   ],
   "source": [
    "type(s)"
   ]
  },
  {
   "cell_type": "code",
   "execution_count": 60,
   "id": "f77221fd-9145-42ee-bb60-0ec168a683d3",
   "metadata": {},
   "outputs": [
    {
     "data": {
      "text/plain": [
       "'p'"
      ]
     },
     "execution_count": 60,
     "metadata": {},
     "output_type": "execute_result"
    }
   ],
   "source": [
    "s[0]"
   ]
  },
  {
   "cell_type": "code",
   "execution_count": 61,
   "id": "287554af-9858-41fc-9417-269beee595bc",
   "metadata": {},
   "outputs": [
    {
     "data": {
      "text/plain": [
       "'l'"
      ]
     },
     "execution_count": 61,
     "metadata": {},
     "output_type": "execute_result"
    }
   ],
   "source": [
    "s[6]"
   ]
  },
  {
   "cell_type": "code",
   "execution_count": 62,
   "id": "cba06e68-9a51-46fc-aaf4-5223d335043b",
   "metadata": {},
   "outputs": [
    {
     "data": {
      "text/plain": [
       "'s'"
      ]
     },
     "execution_count": 62,
     "metadata": {},
     "output_type": "execute_result"
    }
   ],
   "source": [
    "s[7]"
   ]
  },
  {
   "cell_type": "code",
   "execution_count": 63,
   "id": "0f3d7124-ab6f-4d57-9c42-d5710a6353d1",
   "metadata": {},
   "outputs": [
    {
     "data": {
      "text/plain": [
       "'s'"
      ]
     },
     "execution_count": 63,
     "metadata": {},
     "output_type": "execute_result"
    }
   ],
   "source": [
    "s[-1]"
   ]
  },
  {
   "cell_type": "code",
   "execution_count": 64,
   "id": "cb93cc58-c660-471e-8476-020d8f80650f",
   "metadata": {},
   "outputs": [
    {
     "data": {
      "text/plain": [
       "'w'"
      ]
     },
     "execution_count": 64,
     "metadata": {},
     "output_type": "execute_result"
    }
   ],
   "source": [
    "s[-7]"
   ]
  },
  {
   "cell_type": "code",
   "execution_count": 66,
   "id": "3c2ca115-eda9-48fe-80eb-878807abc16f",
   "metadata": {},
   "outputs": [
    {
     "data": {
      "text/plain": [
       "'p'"
      ]
     },
     "execution_count": 66,
     "metadata": {},
     "output_type": "execute_result"
    }
   ],
   "source": [
    "s[0]"
   ]
  },
  {
   "cell_type": "code",
   "execution_count": 67,
   "id": "69d63411-6c96-46ae-a936-4cff22dd9237",
   "metadata": {},
   "outputs": [
    {
     "data": {
      "text/plain": [
       "'pws'"
      ]
     },
     "execution_count": 67,
     "metadata": {},
     "output_type": "execute_result"
    }
   ],
   "source": [
    "s[0:3]"
   ]
  },
  {
   "cell_type": "code",
   "execution_count": 68,
   "id": "3fb31781-e1c4-494a-b258-5197627425c7",
   "metadata": {},
   "outputs": [
    {
     "data": {
      "text/plain": [
       "'wskil'"
      ]
     },
     "execution_count": 68,
     "metadata": {},
     "output_type": "execute_result"
    }
   ],
   "source": [
    "s[1:6]"
   ]
  },
  {
   "cell_type": "code",
   "execution_count": 69,
   "id": "bae0ca49-f241-41e0-8845-37062033ccd7",
   "metadata": {},
   "outputs": [
    {
     "data": {
      "text/plain": [
       "'pwsk'"
      ]
     },
     "execution_count": 69,
     "metadata": {},
     "output_type": "execute_result"
    }
   ],
   "source": [
    "s[0:4]"
   ]
  },
  {
   "cell_type": "code",
   "execution_count": 70,
   "id": "2fa2ecf2-80bd-43c4-a5d0-d5e5b6718c00",
   "metadata": {},
   "outputs": [
    {
     "data": {
      "text/plain": [
       "'psil'"
      ]
     },
     "execution_count": 70,
     "metadata": {},
     "output_type": "execute_result"
    }
   ],
   "source": [
    "s[0:8:2]"
   ]
  },
  {
   "cell_type": "code",
   "execution_count": 72,
   "id": "1dc899d1-b5fb-4cc3-820d-99fe6cdaf964",
   "metadata": {},
   "outputs": [
    {
     "data": {
      "text/plain": [
       "'pkl'"
      ]
     },
     "execution_count": 72,
     "metadata": {},
     "output_type": "execute_result"
    }
   ],
   "source": [
    "s[0:8:3]"
   ]
  },
  {
   "cell_type": "code",
   "execution_count": 74,
   "id": "26db24cc-16b8-4980-8811-174a484a698c",
   "metadata": {},
   "outputs": [
    {
     "data": {
      "text/plain": [
       "'psil'"
      ]
     },
     "execution_count": 74,
     "metadata": {},
     "output_type": "execute_result"
    }
   ],
   "source": [
    "s[::2]"
   ]
  },
  {
   "cell_type": "code",
   "execution_count": 75,
   "id": "c7aa8657-f28c-42ba-a763-b6750abfdb48",
   "metadata": {},
   "outputs": [
    {
     "data": {
      "text/plain": [
       "'sil'"
      ]
     },
     "execution_count": 75,
     "metadata": {},
     "output_type": "execute_result"
    }
   ],
   "source": [
    "s[2::2]"
   ]
  },
  {
   "cell_type": "code",
   "execution_count": 76,
   "id": "0cb3d889-a318-48c7-859c-e456854d1b5a",
   "metadata": {},
   "outputs": [
    {
     "ename": "ValueError",
     "evalue": "slice step cannot be zero",
     "output_type": "error",
     "traceback": [
      "\u001b[0;31m---------------------------------------------------------------------------\u001b[0m",
      "\u001b[0;31mValueError\u001b[0m                                Traceback (most recent call last)",
      "Cell \u001b[0;32mIn[76], line 1\u001b[0m\n\u001b[0;32m----> 1\u001b[0m \u001b[43ms\u001b[49m\u001b[43m[\u001b[49m\u001b[38;5;241;43m2\u001b[39;49m\u001b[43m:\u001b[49m\u001b[43m:\u001b[49m\u001b[38;5;241;43m0\u001b[39;49m\u001b[43m]\u001b[49m\n",
      "\u001b[0;31mValueError\u001b[0m: slice step cannot be zero"
     ]
    }
   ],
   "source": [
    "s[2::0]"
   ]
  },
  {
   "cell_type": "code",
   "execution_count": 77,
   "id": "c1904490-49a0-4f80-9ca7-62765bdbff20",
   "metadata": {},
   "outputs": [
    {
     "data": {
      "text/plain": [
       "'sllikswp'"
      ]
     },
     "execution_count": 77,
     "metadata": {},
     "output_type": "execute_result"
    }
   ],
   "source": [
    "s[::-1]"
   ]
  },
  {
   "cell_type": "code",
   "execution_count": 78,
   "id": "8d00ccdc-6064-4bdc-951d-6885851260e4",
   "metadata": {},
   "outputs": [
    {
     "data": {
      "text/plain": [
       "''"
      ]
     },
     "execution_count": 78,
     "metadata": {},
     "output_type": "execute_result"
    }
   ],
   "source": [
    "s[2:7:-1]"
   ]
  },
  {
   "cell_type": "code",
   "execution_count": 79,
   "id": "5ed41edc-4281-4beb-bfa4-93dd3ada47f0",
   "metadata": {},
   "outputs": [
    {
     "data": {
      "text/plain": [
       "''"
      ]
     },
     "execution_count": 79,
     "metadata": {},
     "output_type": "execute_result"
    }
   ],
   "source": [
    "s[2:8:-3]"
   ]
  },
  {
   "cell_type": "code",
   "execution_count": 86,
   "id": "ae23cda6-b07a-4760-a6fd-b1805f24debc",
   "metadata": {},
   "outputs": [
    {
     "data": {
      "text/plain": [
       "''"
      ]
     },
     "execution_count": 86,
     "metadata": {},
     "output_type": "execute_result"
    }
   ],
   "source": [
    "s[8:]"
   ]
  },
  {
   "cell_type": "code",
   "execution_count": 81,
   "id": "58c636fe-cfb9-4e7d-9b05-9cc2045df278",
   "metadata": {},
   "outputs": [
    {
     "data": {
      "text/plain": [
       "'slliksw'"
      ]
     },
     "execution_count": 81,
     "metadata": {},
     "output_type": "execute_result"
    }
   ],
   "source": [
    "s[8:0:-1]"
   ]
  },
  {
   "cell_type": "code",
   "execution_count": 87,
   "id": "dcab1e93-1ce9-474c-bcd4-98b9e4e78da8",
   "metadata": {},
   "outputs": [
    {
     "data": {
      "text/plain": [
       "'sllikswp'"
      ]
     },
     "execution_count": 87,
     "metadata": {},
     "output_type": "execute_result"
    }
   ],
   "source": [
    "s[8::-1]"
   ]
  },
  {
   "cell_type": "code",
   "execution_count": 85,
   "id": "9e5b80d1-d678-4298-8fa8-018b83137706",
   "metadata": {},
   "outputs": [
    {
     "data": {
      "text/plain": [
       "'llikswp'"
      ]
     },
     "execution_count": 85,
     "metadata": {},
     "output_type": "execute_result"
    }
   ],
   "source": [
    "s[-2::-1]"
   ]
  },
  {
   "cell_type": "code",
   "execution_count": 88,
   "id": "1ee42afa-180f-40d6-bf88-a6fdc7c90828",
   "metadata": {},
   "outputs": [
    {
     "ename": "SyntaxError",
     "evalue": "invalid syntax (721920058.py, line 1)",
     "output_type": "error",
     "traceback": [
      "\u001b[0;36m  Cell \u001b[0;32mIn[88], line 1\u001b[0;36m\u001b[0m\n\u001b[0;31m    s[:::]\u001b[0m\n\u001b[0m        ^\u001b[0m\n\u001b[0;31mSyntaxError\u001b[0m\u001b[0;31m:\u001b[0m invalid syntax\n"
     ]
    }
   ],
   "source": [
    "s[:::]"
   ]
  },
  {
   "cell_type": "code",
   "execution_count": 89,
   "id": "da895036-15bd-4595-af1e-c7b0aafde0d9",
   "metadata": {},
   "outputs": [
    {
     "ename": "IndexError",
     "evalue": "string index out of range",
     "output_type": "error",
     "traceback": [
      "\u001b[0;31m---------------------------------------------------------------------------\u001b[0m",
      "\u001b[0;31mIndexError\u001b[0m                                Traceback (most recent call last)",
      "Cell \u001b[0;32mIn[89], line 1\u001b[0m\n\u001b[0;32m----> 1\u001b[0m \u001b[43ms\u001b[49m\u001b[43m[\u001b[49m\u001b[38;5;241;43m90\u001b[39;49m\u001b[43m]\u001b[49m\n",
      "\u001b[0;31mIndexError\u001b[0m: string index out of range"
     ]
    }
   ],
   "source": [
    "s[90]"
   ]
  },
  {
   "cell_type": "code",
   "execution_count": 91,
   "id": "4444a1b3-e298-40a7-9947-39905e2bd64b",
   "metadata": {},
   "outputs": [
    {
     "data": {
      "text/plain": [
       "'sllikswp'"
      ]
     },
     "execution_count": 91,
     "metadata": {},
     "output_type": "execute_result"
    }
   ],
   "source": [
    "s[:-90:-1]"
   ]
  },
  {
   "cell_type": "code",
   "execution_count": 92,
   "id": "38f87e89-584c-4976-9606-b3409dc9b97f",
   "metadata": {},
   "outputs": [
    {
     "data": {
      "text/plain": [
       "'sllikswp'"
      ]
     },
     "execution_count": 92,
     "metadata": {},
     "output_type": "execute_result"
    }
   ],
   "source": [
    "s[:-6646:-1]"
   ]
  },
  {
   "cell_type": "code",
   "execution_count": 93,
   "id": "0326bfc7-6bcb-4aa9-b362-432775f03d33",
   "metadata": {},
   "outputs": [],
   "source": [
    "c=200"
   ]
  },
  {
   "cell_type": "code",
   "execution_count": 94,
   "id": "db9da098-842b-40b9-a6de-51a8e6c7608d",
   "metadata": {},
   "outputs": [],
   "source": [
    "s1=\"this is my string class\""
   ]
  },
  {
   "cell_type": "code",
   "execution_count": 95,
   "id": "312f27f7-45fb-40a1-af13-d5d433435980",
   "metadata": {},
   "outputs": [
    {
     "data": {
      "text/plain": [
       "23"
      ]
     },
     "execution_count": 95,
     "metadata": {},
     "output_type": "execute_result"
    }
   ],
   "source": [
    "len(s1)"
   ]
  },
  {
   "cell_type": "code",
   "execution_count": 98,
   "id": "91f1ad29-3e3b-4fb0-886f-c7e491603a9d",
   "metadata": {},
   "outputs": [
    {
     "data": {
      "text/plain": [
       "-1"
      ]
     },
     "execution_count": 98,
     "metadata": {},
     "output_type": "execute_result"
    }
   ],
   "source": [
    "s1.find('s')"
   ]
  },
  {
   "cell_type": "code",
   "execution_count": 100,
   "id": "50a2355c-ad31-4965-9dfe-03bacaa73d5b",
   "metadata": {},
   "outputs": [
    {
     "data": {
      "text/plain": [
       "2"
      ]
     },
     "execution_count": 100,
     "metadata": {},
     "output_type": "execute_result"
    }
   ],
   "source": [
    "s1.find('i')"
   ]
  },
  {
   "cell_type": "code",
   "execution_count": 101,
   "id": "f7f186e0-6a2e-4b6d-9322-3c1054893912",
   "metadata": {},
   "outputs": [
    {
     "data": {
      "text/plain": [
       "2"
      ]
     },
     "execution_count": 101,
     "metadata": {},
     "output_type": "execute_result"
    }
   ],
   "source": [
    "s1.find('is')"
   ]
  },
  {
   "cell_type": "code",
   "execution_count": 102,
   "id": "51618b5e-99f4-408d-a71a-ecdbd1830c6e",
   "metadata": {},
   "outputs": [
    {
     "data": {
      "text/plain": [
       "-1"
      ]
     },
     "execution_count": 102,
     "metadata": {},
     "output_type": "execute_result"
    }
   ],
   "source": [
    "s1.find('IS')"
   ]
  },
  {
   "cell_type": "code",
   "execution_count": 103,
   "id": "79792db4-98d3-4160-9d98-f3fb83a88213",
   "metadata": {},
   "outputs": [
    {
     "data": {
      "text/plain": [
       "5"
      ]
     },
     "execution_count": 103,
     "metadata": {},
     "output_type": "execute_result"
    }
   ],
   "source": [
    "s1.count('s')"
   ]
  },
  {
   "cell_type": "code",
   "execution_count": 104,
   "id": "e8ce6ede-94d4-45e6-931b-fe414901da4c",
   "metadata": {},
   "outputs": [
    {
     "data": {
      "text/plain": [
       "'this is my string class'"
      ]
     },
     "execution_count": 104,
     "metadata": {},
     "output_type": "execute_result"
    }
   ],
   "source": [
    "s1"
   ]
  },
  {
   "cell_type": "code",
   "execution_count": 105,
   "id": "528a62b5-1d4c-4814-9dab-c6969ee4356d",
   "metadata": {},
   "outputs": [
    {
     "data": {
      "text/plain": [
       "1"
      ]
     },
     "execution_count": 105,
     "metadata": {},
     "output_type": "execute_result"
    }
   ],
   "source": [
    "s1.count('st')"
   ]
  },
  {
   "cell_type": "code",
   "execution_count": 106,
   "id": "aa0a0087-c147-45d2-a85b-b138e21816b9",
   "metadata": {},
   "outputs": [
    {
     "data": {
      "text/plain": [
       "1"
      ]
     },
     "execution_count": 106,
     "metadata": {},
     "output_type": "execute_result"
    }
   ],
   "source": [
    "s1.count('g')"
   ]
  },
  {
   "cell_type": "code",
   "execution_count": 108,
   "id": "251bc33b-20fb-44db-ae74-70517e353d1f",
   "metadata": {},
   "outputs": [
    {
     "data": {
      "text/plain": [
       "0"
      ]
     },
     "execution_count": 108,
     "metadata": {},
     "output_type": "execute_result"
    }
   ],
   "source": [
    "s1.count('z')"
   ]
  },
  {
   "cell_type": "code",
   "execution_count": 109,
   "id": "b6dca078-3290-47c7-aa9f-f1aa95db73e7",
   "metadata": {},
   "outputs": [
    {
     "data": {
      "text/plain": [
       "'this is my string class'"
      ]
     },
     "execution_count": 109,
     "metadata": {},
     "output_type": "execute_result"
    }
   ],
   "source": [
    "s1"
   ]
  },
  {
   "cell_type": "code",
   "execution_count": 116,
   "id": "18a0329a-833e-4d2e-8eda-504cae1e90d9",
   "metadata": {},
   "outputs": [
    {
     "data": {
      "text/plain": [
       "'THIS IS MY STRING CLASS'"
      ]
     },
     "execution_count": 116,
     "metadata": {},
     "output_type": "execute_result"
    }
   ],
   "source": [
    "s1.upper()"
   ]
  },
  {
   "cell_type": "code",
   "execution_count": 6,
   "id": "5af57381-c051-4fef-be15-94397db4d183",
   "metadata": {},
   "outputs": [
    {
     "ename": "NameError",
     "evalue": "name 's1' is not defined",
     "output_type": "error",
     "traceback": [
      "\u001b[0;31m---------------------------------------------------------------------------\u001b[0m",
      "\u001b[0;31mNameError\u001b[0m                                 Traceback (most recent call last)",
      "Cell \u001b[0;32mIn[6], line 1\u001b[0m\n\u001b[0;32m----> 1\u001b[0m \u001b[43ms1\u001b[49m\u001b[38;5;241m.\u001b[39mtitle()\n",
      "\u001b[0;31mNameError\u001b[0m: name 's1' is not defined"
     ]
    }
   ],
   "source": [
    "s1.title()"
   ]
  },
  {
   "cell_type": "code",
   "execution_count": 7,
   "id": "1e5c368d-ddf0-4bd2-aa64-377843e3bf36",
   "metadata": {},
   "outputs": [
    {
     "ename": "SyntaxError",
     "evalue": "unterminated string literal (detected at line 1) (1811489030.py, line 1)",
     "output_type": "error",
     "traceback": [
      "\u001b[0;36m  Cell \u001b[0;32mIn[7], line 1\u001b[0;36m\u001b[0m\n\u001b[0;31m    'don't do copy and paste in my class'\u001b[0m\n\u001b[0m                                        ^\u001b[0m\n\u001b[0;31mSyntaxError\u001b[0m\u001b[0;31m:\u001b[0m unterminated string literal (detected at line 1)\n"
     ]
    }
   ],
   "source": [
    "'don't do copy and paste in my class'"
   ]
  },
  {
   "cell_type": "code",
   "execution_count": 8,
   "id": "d07e04c9-67f2-46c8-9f60-660290775f5c",
   "metadata": {},
   "outputs": [
    {
     "data": {
      "text/plain": [
       "\"don't do copy and paste in my class\""
      ]
     },
     "execution_count": 8,
     "metadata": {},
     "output_type": "execute_result"
    }
   ],
   "source": [
    "\"don't do copy and paste in my class\""
   ]
  },
  {
   "cell_type": "code",
   "execution_count": 9,
   "id": "c319350f-b98e-4b2b-9712-f63cfb0c72e4",
   "metadata": {},
   "outputs": [
    {
     "ename": "SyntaxError",
     "evalue": "invalid syntax (2574840421.py, line 1)",
     "output_type": "error",
     "traceback": [
      "\u001b[0;36m  Cell \u001b[0;32mIn[9], line 1\u001b[0;36m\u001b[0m\n\u001b[0;31m    this is my first class for programming\u001b[0m\n\u001b[0m               ^\u001b[0m\n\u001b[0;31mSyntaxError\u001b[0m\u001b[0;31m:\u001b[0m invalid syntax\n"
     ]
    }
   ],
   "source": [
    "this is my first class for programming"
   ]
  },
  {
   "cell_type": "code",
   "execution_count": 10,
   "id": "2fe258bd-96fb-453a-8024-1c1d5df4d35e",
   "metadata": {},
   "outputs": [],
   "source": [
    "##this is my first class for programming"
   ]
  },
  {
   "cell_type": "code",
   "execution_count": 13,
   "id": "671aac58-8721-4bee-a01d-39831954be67",
   "metadata": {},
   "outputs": [],
   "source": [
    "s3 = '''This is my first class for programming\n",
    "I have learned a variable declaration data type string, integer, bullian. \n",
    "I have seen slicing, indexing. \n",
    "apart from this i practices from'''"
   ]
  },
  {
   "cell_type": "code",
   "execution_count": 14,
   "id": "e60cc3f0-fc6f-42c9-93cc-9e92ed5da2e0",
   "metadata": {},
   "outputs": [
    {
     "data": {
      "text/plain": [
       "'This is my first class for programming\\nI have learned a variable declaration data type string, integer, bullian. \\nI have seen slicing, indexing. \\napart from this i practices from'"
      ]
     },
     "execution_count": 14,
     "metadata": {},
     "output_type": "execute_result"
    }
   ],
   "source": [
    "s3"
   ]
  },
  {
   "cell_type": "code",
   "execution_count": 16,
   "id": "be4d4f6f-13dc-4d8f-9dd0-7c513d7ed95e",
   "metadata": {},
   "outputs": [],
   "source": [
    "s4 = \"I have a pet\""
   ]
  },
  {
   "cell_type": "code",
   "execution_count": 17,
   "id": "d4472e96-6f91-494f-bd56-d22ae704f4ff",
   "metadata": {},
   "outputs": [
    {
     "data": {
      "text/plain": [
       "'I have a pet'"
      ]
     },
     "execution_count": 17,
     "metadata": {},
     "output_type": "execute_result"
    }
   ],
   "source": [
    "s4"
   ]
  },
  {
   "cell_type": "code",
   "execution_count": 18,
   "id": "142503eb-3781-4766-b2d1-2ff60f449aa4",
   "metadata": {},
   "outputs": [
    {
     "data": {
      "text/plain": [
       "'I HAVE A PET'"
      ]
     },
     "execution_count": 18,
     "metadata": {},
     "output_type": "execute_result"
    }
   ],
   "source": [
    "s4.upper()"
   ]
  },
  {
   "cell_type": "code",
   "execution_count": 19,
   "id": "490183cf-3901-4479-b322-4595ad6b07b3",
   "metadata": {},
   "outputs": [],
   "source": [
    "s5 ='I HAVE A PET'"
   ]
  },
  {
   "cell_type": "code",
   "execution_count": 20,
   "id": "e92956f5-7eea-40bf-a4df-4697698e9c9c",
   "metadata": {},
   "outputs": [
    {
     "data": {
      "text/plain": [
       "'I HAVE A PET'"
      ]
     },
     "execution_count": 20,
     "metadata": {},
     "output_type": "execute_result"
    }
   ],
   "source": [
    "s5"
   ]
  },
  {
   "cell_type": "code",
   "execution_count": 21,
   "id": "5a9cd589-f9b1-45b6-b184-d0cafb90b52f",
   "metadata": {},
   "outputs": [
    {
     "data": {
      "text/plain": [
       "'i have a pet'"
      ]
     },
     "execution_count": 21,
     "metadata": {},
     "output_type": "execute_result"
    }
   ],
   "source": [
    "s5.lower()"
   ]
  },
  {
   "cell_type": "code",
   "execution_count": 22,
   "id": "091cffd0-9b24-4217-9e92-90cb5bcbb2d1",
   "metadata": {},
   "outputs": [],
   "source": [
    "s6 = \"kjngvnggig;isajfiojgiojgjagijg;ijdjvlmkvljijgvmv\""
   ]
  },
  {
   "cell_type": "code",
   "execution_count": 23,
   "id": "2df647a7-0327-4de1-a543-8bd6c90cdef6",
   "metadata": {},
   "outputs": [
    {
     "data": {
      "text/plain": [
       "'kjngvnggig;isajfiojgiojgjagijg;ijdjvlmkvljijgvmv'"
      ]
     },
     "execution_count": 23,
     "metadata": {},
     "output_type": "execute_result"
    }
   ],
   "source": [
    "s6"
   ]
  },
  {
   "cell_type": "code",
   "execution_count": 24,
   "id": "049f874f-825a-4e26-8192-3e33dc5ba7c1",
   "metadata": {},
   "outputs": [
    {
     "data": {
      "text/plain": [
       "'KJNGVNGGIG;ISAJFIOJGIOJGJAGIJG;IJDJVLMKVLJIJGVMV'"
      ]
     },
     "execution_count": 24,
     "metadata": {},
     "output_type": "execute_result"
    }
   ],
   "source": [
    "s6.upper()"
   ]
  },
  {
   "cell_type": "code",
   "execution_count": 25,
   "id": "89a18bff-ecda-4a96-b20d-94b43140d30d",
   "metadata": {},
   "outputs": [
    {
     "data": {
      "text/plain": [
       "25"
      ]
     },
     "execution_count": 25,
     "metadata": {},
     "output_type": "execute_result"
    }
   ],
   "source": [
    "5*5"
   ]
  },
  {
   "cell_type": "code",
   "execution_count": null,
   "id": "8a4e8499-927d-4813-bf4d-351d102d28ad",
   "metadata": {},
   "outputs": [],
   "source": []
  }
 ],
 "metadata": {
  "kernelspec": {
   "display_name": "Python 3 (ipykernel)",
   "language": "python",
   "name": "python3"
  },
  "language_info": {
   "codemirror_mode": {
    "name": "ipython",
    "version": 3
   },
   "file_extension": ".py",
   "mimetype": "text/x-python",
   "name": "python",
   "nbconvert_exporter": "python",
   "pygments_lexer": "ipython3",
   "version": "3.10.8"
  }
 },
 "nbformat": 4,
 "nbformat_minor": 5
}
